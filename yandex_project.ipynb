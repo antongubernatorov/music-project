{
 "cells": [
  {
   "cell_type": "code",
   "execution_count": 38,
   "id": "71812d8d-5135-4a6d-8eb0-558d452d0306",
   "metadata": {},
   "outputs": [],
   "source": [
    "#Предобработка данных"
   ]
  },
  {
   "cell_type": "code",
   "execution_count": 39,
   "id": "e09cd63b-019a-4aec-8e32-63055b66ec9c",
   "metadata": {},
   "outputs": [],
   "source": [
    "import pandas as pd"
   ]
  },
  {
   "cell_type": "code",
   "execution_count": 40,
   "id": "db053058-9846-46db-9e34-310de88cf50d",
   "metadata": {},
   "outputs": [],
   "source": [
    "data = pd.read_csv('yandex_music_project.csv')"
   ]
  },
  {
   "cell_type": "code",
   "execution_count": 56,
   "id": "4817a13a-b155-4ca9-ab14-85fc8a5c25f5",
   "metadata": {},
   "outputs": [],
   "source": [
    "data = data.rename(columns={'  userID': 'user_id', 'Track': 'track', 'Artist': 'artist', 'Genre': 'genre', '  City  ': 'city', 'Time':'time','Day':'day'})"
   ]
  },
  {
   "cell_type": "code",
   "execution_count": 57,
   "id": "81fb6f88-4e3e-4268-9bbd-134b706a098b",
   "metadata": {},
   "outputs": [
    {
     "name": "stdout",
     "output_type": "stream",
     "text": [
      "<class 'pandas.core.frame.DataFrame'>\n",
      "RangeIndex: 65079 entries, 0 to 65078\n",
      "Data columns (total 7 columns):\n",
      " #   Column   Non-Null Count  Dtype \n",
      "---  ------   --------------  ----- \n",
      " 0   user_id  65079 non-null  object\n",
      " 1   track    63848 non-null  object\n",
      " 2   artist   57876 non-null  object\n",
      " 3   genre    63881 non-null  object\n",
      " 4   city     65079 non-null  object\n",
      " 5   time     65079 non-null  object\n",
      " 6   day      65079 non-null  object\n",
      "dtypes: object(7)\n",
      "memory usage: 3.5+ MB\n"
     ]
    }
   ],
   "source": [
    "data.info()"
   ]
  },
  {
   "cell_type": "code",
   "execution_count": 58,
   "id": "a3316a5f-1048-4553-848f-bd357ce9523f",
   "metadata": {},
   "outputs": [
    {
     "data": {
      "text/html": [
       "<div>\n",
       "<style scoped>\n",
       "    .dataframe tbody tr th:only-of-type {\n",
       "        vertical-align: middle;\n",
       "    }\n",
       "\n",
       "    .dataframe tbody tr th {\n",
       "        vertical-align: top;\n",
       "    }\n",
       "\n",
       "    .dataframe thead th {\n",
       "        text-align: right;\n",
       "    }\n",
       "</style>\n",
       "<table border=\"1\" class=\"dataframe\">\n",
       "  <thead>\n",
       "    <tr style=\"text-align: right;\">\n",
       "      <th></th>\n",
       "      <th>user_id</th>\n",
       "      <th>track</th>\n",
       "      <th>artist</th>\n",
       "      <th>genre</th>\n",
       "      <th>city</th>\n",
       "      <th>time</th>\n",
       "      <th>day</th>\n",
       "    </tr>\n",
       "  </thead>\n",
       "  <tbody>\n",
       "    <tr>\n",
       "      <th>0</th>\n",
       "      <td>FFB692EC</td>\n",
       "      <td>Kamigata To Boots</td>\n",
       "      <td>The Mass Missile</td>\n",
       "      <td>rock</td>\n",
       "      <td>Saint-Petersburg</td>\n",
       "      <td>20:28:33</td>\n",
       "      <td>Wednesday</td>\n",
       "    </tr>\n",
       "    <tr>\n",
       "      <th>1</th>\n",
       "      <td>55204538</td>\n",
       "      <td>Delayed Because of Accident</td>\n",
       "      <td>Andreas Rönnberg</td>\n",
       "      <td>rock</td>\n",
       "      <td>Moscow</td>\n",
       "      <td>14:07:09</td>\n",
       "      <td>Friday</td>\n",
       "    </tr>\n",
       "    <tr>\n",
       "      <th>2</th>\n",
       "      <td>20EC38</td>\n",
       "      <td>Funiculì funiculà</td>\n",
       "      <td>Mario Lanza</td>\n",
       "      <td>pop</td>\n",
       "      <td>Saint-Petersburg</td>\n",
       "      <td>20:58:07</td>\n",
       "      <td>Wednesday</td>\n",
       "    </tr>\n",
       "    <tr>\n",
       "      <th>3</th>\n",
       "      <td>A3DD03C9</td>\n",
       "      <td>Dragons in the Sunset</td>\n",
       "      <td>Fire + Ice</td>\n",
       "      <td>folk</td>\n",
       "      <td>Saint-Petersburg</td>\n",
       "      <td>08:37:09</td>\n",
       "      <td>Monday</td>\n",
       "    </tr>\n",
       "    <tr>\n",
       "      <th>4</th>\n",
       "      <td>E2DC1FAE</td>\n",
       "      <td>Soul People</td>\n",
       "      <td>Space Echo</td>\n",
       "      <td>dance</td>\n",
       "      <td>Moscow</td>\n",
       "      <td>08:34:34</td>\n",
       "      <td>Monday</td>\n",
       "    </tr>\n",
       "  </tbody>\n",
       "</table>\n",
       "</div>"
      ],
      "text/plain": [
       "    user_id                        track            artist  genre  \\\n",
       "0  FFB692EC            Kamigata To Boots  The Mass Missile   rock   \n",
       "1  55204538  Delayed Because of Accident  Andreas Rönnberg   rock   \n",
       "2    20EC38            Funiculì funiculà       Mario Lanza    pop   \n",
       "3  A3DD03C9        Dragons in the Sunset        Fire + Ice   folk   \n",
       "4  E2DC1FAE                  Soul People        Space Echo  dance   \n",
       "\n",
       "               city      time        day  \n",
       "0  Saint-Petersburg  20:28:33  Wednesday  \n",
       "1            Moscow  14:07:09     Friday  \n",
       "2  Saint-Petersburg  20:58:07  Wednesday  \n",
       "3  Saint-Petersburg  08:37:09     Monday  \n",
       "4            Moscow  08:34:34     Monday  "
      ]
     },
     "execution_count": 58,
     "metadata": {},
     "output_type": "execute_result"
    }
   ],
   "source": [
    "data.head()"
   ]
  },
  {
   "cell_type": "code",
   "execution_count": 62,
   "id": "47cbca17-55b3-4f45-b6c0-24a481e66af4",
   "metadata": {},
   "outputs": [
    {
     "name": "stdout",
     "output_type": "stream",
     "text": [
      "user_id    0\n",
      "track      0\n",
      "artist     0\n",
      "genre      0\n",
      "city       0\n",
      "time       0\n",
      "day        0\n",
      "dtype: int64\n"
     ]
    }
   ],
   "source": [
    "print(data.isna().sum())"
   ]
  },
  {
   "cell_type": "code",
   "execution_count": 60,
   "id": "d76a2ee4-c0b4-44b9-bfe2-1a6a4ceb2739",
   "metadata": {
    "scrolled": true
   },
   "outputs": [],
   "source": [
    "colums_to_replace = ['track', 'artist','genre']"
   ]
  },
  {
   "cell_type": "code",
   "execution_count": 61,
   "id": "9a13939b-ce27-49f5-8b3a-493852837d50",
   "metadata": {},
   "outputs": [],
   "source": [
    "for col in colums_to_replace:\n",
    "    data[col] = data[col].fillna('unknown')"
   ]
  },
  {
   "cell_type": "code",
   "execution_count": 68,
   "id": "6520277d-82b6-4ebe-a28d-1858e4b2ba22",
   "metadata": {},
   "outputs": [],
   "source": [
    "duplicated_data = data[data.duplicated()].head()"
   ]
  },
  {
   "cell_type": "code",
   "execution_count": 65,
   "id": "7d21b88c-552b-4e4a-8333-b1096918cb1b",
   "metadata": {
    "scrolled": true
   },
   "outputs": [],
   "source": [
    "data = data.drop_duplicates()"
   ]
  },
  {
   "cell_type": "code",
   "execution_count": 66,
   "id": "7076e31b-5657-46c3-8701-98524d342ae8",
   "metadata": {},
   "outputs": [],
   "source": [
    "data = data.reset_index()"
   ]
  },
  {
   "cell_type": "code",
   "execution_count": 84,
   "id": "4f3fa960-faaf-4eb6-b8fd-a956ee8dd21e",
   "metadata": {},
   "outputs": [],
   "source": [
    "data['genre'] = data['genre'].replace('электроника', 'electronic')\n",
    "data['genre'] = data['genre'].replace('hip', 'hiphop')\n",
    "data['genre'] = data['genre'].replace('hop', 'hiphop')"
   ]
  },
  {
   "cell_type": "code",
   "execution_count": 89,
   "id": "13dc865e-ed93-4c66-90dc-1d716c9f594a",
   "metadata": {},
   "outputs": [],
   "source": [
    "wrong_genres = ['hip','hop','hip-hop']\n",
    "correct_genre = 'hiphop'\n",
    "def replace_wrong_genre(wrong_genres, correct_genre):\n",
    "    for genre in wrong_genres:\n",
    "        data['genre'] = data['genre'].replace(genre, coorect_genre)"
   ]
  },
  {
   "cell_type": "code",
   "execution_count": 96,
   "id": "d1472be0-483f-46a9-875f-230213a7a20a",
   "metadata": {},
   "outputs": [],
   "source": [
    "genre_unique = list(data['genre'].unique())"
   ]
  },
  {
   "cell_type": "code",
   "execution_count": 107,
   "id": "12a8a000-323f-4b79-a358-60d63d6c3540",
   "metadata": {},
   "outputs": [],
   "source": [
    "sorted_genre = data.sort_values(by='genre')"
   ]
  },
  {
   "cell_type": "code",
   "execution_count": 105,
   "id": "dfa4fcfa-9d6f-43ca-82fa-100b0adb6ca8",
   "metadata": {},
   "outputs": [],
   "source": [
    "data = data.reset_index(drop=True)"
   ]
  },
  {
   "cell_type": "code",
   "execution_count": 120,
   "id": "a96b7d1e-2711-48ac-9a21-7aa6035cb6de",
   "metadata": {},
   "outputs": [],
   "source": [
    "group_listeniers_by_time = data.groupby('city')['time'].count()"
   ]
  },
  {
   "cell_type": "code",
   "execution_count": 136,
   "id": "6075047a-e7e0-4120-b7ed-e73904a3f226",
   "metadata": {
    "scrolled": true
   },
   "outputs": [],
   "source": [
    "group_listeniers_by_day = data.groupby('day')['city'].count()"
   ]
  },
  {
   "cell_type": "code",
   "execution_count": 137,
   "id": "d57960c8-2a87-4523-ba78-8b28a06ea95c",
   "metadata": {},
   "outputs": [
    {
     "data": {
      "text/plain": [
       "day\n",
       "Friday       21840\n",
       "Monday       21354\n",
       "Wednesday    18059\n",
       "Name: city, dtype: int64"
      ]
     },
     "execution_count": 137,
     "metadata": {},
     "output_type": "execute_result"
    }
   ],
   "source": [
    "group_listeniers_by_day"
   ]
  },
  {
   "cell_type": "code",
   "execution_count": 155,
   "id": "94205702-92c7-4e2b-9689-d6db5d0816b0",
   "metadata": {},
   "outputs": [],
   "source": [
    "def number_tracks(day, city):\n",
    "    track_list = data[data['day'] == day]\n",
    "    track_list = track_list[track_list['city'] == city]\n",
    "    track_list_count = track_list['user_id'].count()\n",
    "    print(track_list_count)\n",
    "    return track_list_count"
   ]
  },
  {
   "cell_type": "code",
   "execution_count": 156,
   "id": "5774f6e7-9483-460b-be32-e63a0cb84aba",
   "metadata": {},
   "outputs": [
    {
     "name": "stdout",
     "output_type": "stream",
     "text": [
      "15740\n",
      "11056\n",
      "15945\n",
      "5614\n",
      "7003\n",
      "5895\n"
     ]
    }
   ],
   "source": [
    "monday_moscow = number_tracks('Monday', 'Moscow')\n",
    "wednesday_moscow = number_tracks('Wednesday', 'Moscow')\n",
    "friday_moscow = number_tracks('Friday', 'Moscow')\n",
    "\n",
    "monday_saint_petersburg = number_tracks('Monday', 'Saint-Petersburg')\n",
    "wednesday_saint_petersburg = number_tracks('Wednesday', 'Saint-Petersburg')\n",
    "friday_saint_petersburg = number_tracks('Friday', 'Saint-Petersburg')\n"
   ]
  },
  {
   "cell_type": "code",
   "execution_count": 162,
   "id": "bdf58180-bb68-483d-b04a-a29a2799c5a7",
   "metadata": {},
   "outputs": [],
   "source": [
    "atlas = [['Moscow',monday_moscow, wednesday_moscow, friday_moscow],\n",
    "        ['Saint-Petersburg',monday_saint_petersburg, wednesday_saint_petersburg,friday_saint_petersburg]]"
   ]
  },
  {
   "cell_type": "code",
   "execution_count": 163,
   "id": "b2c22fa3-234e-43a4-ab04-65211b77806f",
   "metadata": {},
   "outputs": [],
   "source": [
    "data_about_cities = pd.DataFrame(data = atlas, columns=['city', 'monday', 'wednesday','friday'])"
   ]
  },
  {
   "cell_type": "code",
   "execution_count": 262,
   "id": "843e5d08-e44d-48a3-990d-c2d51712d6c3",
   "metadata": {},
   "outputs": [
    {
     "data": {
      "text/html": [
       "<div>\n",
       "<style scoped>\n",
       "    .dataframe tbody tr th:only-of-type {\n",
       "        vertical-align: middle;\n",
       "    }\n",
       "\n",
       "    .dataframe tbody tr th {\n",
       "        vertical-align: top;\n",
       "    }\n",
       "\n",
       "    .dataframe thead th {\n",
       "        text-align: right;\n",
       "    }\n",
       "</style>\n",
       "<table border=\"1\" class=\"dataframe\">\n",
       "  <thead>\n",
       "    <tr style=\"text-align: right;\">\n",
       "      <th></th>\n",
       "      <th>city</th>\n",
       "      <th>monday</th>\n",
       "      <th>wednesday</th>\n",
       "      <th>friday</th>\n",
       "    </tr>\n",
       "  </thead>\n",
       "  <tbody>\n",
       "    <tr>\n",
       "      <th>0</th>\n",
       "      <td>Moscow</td>\n",
       "      <td>15740</td>\n",
       "      <td>11056</td>\n",
       "      <td>15945</td>\n",
       "    </tr>\n",
       "    <tr>\n",
       "      <th>1</th>\n",
       "      <td>Saint-Petersburg</td>\n",
       "      <td>5614</td>\n",
       "      <td>7003</td>\n",
       "      <td>5895</td>\n",
       "    </tr>\n",
       "  </tbody>\n",
       "</table>\n",
       "</div>"
      ],
      "text/plain": [
       "               city  monday  wednesday  friday\n",
       "0            Moscow   15740      11056   15945\n",
       "1  Saint-Petersburg    5614       7003    5895"
      ]
     },
     "execution_count": 262,
     "metadata": {},
     "output_type": "execute_result"
    }
   ],
   "source": [
    "data_about_cities"
   ]
  },
  {
   "cell_type": "code",
   "execution_count": 263,
   "id": "6745c086-71b1-4bd0-ab2f-fbde84816d22",
   "metadata": {},
   "outputs": [],
   "source": [
    "### Музыка в начале и в конце недели"
   ]
  },
  {
   "cell_type": "code",
   "execution_count": 255,
   "id": "771a204e-b6ba-4e43-9af5-909218dd917c",
   "metadata": {},
   "outputs": [],
   "source": [
    "moscow_general = data[data['city'] == 'Moscow']"
   ]
  },
  {
   "cell_type": "code",
   "execution_count": 264,
   "id": "71c2738a-9e28-4093-938a-406b3264b1a3",
   "metadata": {},
   "outputs": [],
   "source": [
    "spb_general = data[data['city'] == 'Saint-Petersburg']"
   ]
  },
  {
   "cell_type": "code",
   "execution_count": 257,
   "id": "802b9ffa-eaba-4353-afac-9afbdb8be141",
   "metadata": {},
   "outputs": [],
   "source": [
    "def genre_weekday(table, day, time1, time2):\n",
    "    genre_df = table[table['day'] == day]\n",
    "    genre_df = genre_df[genre_df['time'] > time1]\n",
    "    genre_df = genre_df[genre_df['time'] < time2]\n",
    "    genre_df_count = genre_df.groupby('genre')['track'].count()\n",
    "    genre_df_sorted = genre_df_count.sort_values(ascending=False)\n",
    "    return genre_df_sorted"
   ]
  },
  {
   "cell_type": "code",
   "execution_count": 283,
   "id": "deb7b12b-a3b1-48a1-bf74-81fa89925942",
   "metadata": {
    "scrolled": true
   },
   "outputs": [],
   "source": [
    "moscow_top_genre_monday_early = genre_weekday(moscow_general, 'Monday', '07:00', '11:00')\n",
    "saint_top_genre_monday_early = genre_weekday(spb_general, 'Monday', '07:00', '11:00')\n",
    "\n",
    "moscow_top_genre_friday_after = genre_weekday(moscow_general, 'Friday', '17:00', '23:00')\n",
    "saint_top_genre_friday_after = genre_weekday(spb_general, 'Friday', '17:00', '23:00')"
   ]
  },
  {
   "cell_type": "code",
   "execution_count": 287,
   "id": "d6d17359-33b9-4c40-a829-4bbd34627610",
   "metadata": {},
   "outputs": [
    {
     "data": {
      "text/plain": [
       "genre\n",
       "pop            713\n",
       "rock           517\n",
       "dance          495\n",
       "electronic     482\n",
       "hiphop         273\n",
       "world          208\n",
       "ruspop         170\n",
       "alternative    163\n",
       "classical      163\n",
       "rusrap         142\n",
       "Name: track, dtype: int64"
      ]
     },
     "execution_count": 287,
     "metadata": {},
     "output_type": "execute_result"
    }
   ],
   "source": [
    "moscow_top_genre_friday_after.head(10)"
   ]
  },
  {
   "cell_type": "code",
   "execution_count": 286,
   "id": "8d083117-7e97-473e-b112-058b58c46c85",
   "metadata": {},
   "outputs": [
    {
     "data": {
      "text/plain": [
       "genre\n",
       "pop            256\n",
       "electronic     216\n",
       "rock           216\n",
       "dance          210\n",
       "hiphop          97\n",
       "alternative     63\n",
       "jazz            61\n",
       "classical       60\n",
       "rusrap          59\n",
       "world           54\n",
       "Name: track, dtype: int64"
      ]
     },
     "execution_count": 286,
     "metadata": {},
     "output_type": "execute_result"
    }
   ],
   "source": [
    "saint_top_genre_friday_after.head(10)"
   ]
  },
  {
   "cell_type": "code",
   "execution_count": 296,
   "id": "6bf748f4-9f3c-459c-9027-e9f3d20441bb",
   "metadata": {},
   "outputs": [],
   "source": [
    "grouped_moscow_general = moscow_general.groupby('genre')['track'].count()\n",
    "grouped_saint_general = spb_general.groupby('genre')['track'].count()"
   ]
  },
  {
   "cell_type": "code",
   "execution_count": 297,
   "id": "7f3d0894-0412-4101-8c1a-665fbf94a7bf",
   "metadata": {},
   "outputs": [],
   "source": [
    "grouped_moscow_general = grouped_moscow_general.sort_values(ascending=False)\n",
    "grouped_saint_general = grouped_saint_general.sort_values(ascending=False)"
   ]
  },
  {
   "cell_type": "code",
   "execution_count": 300,
   "id": "82316fdd-d6d2-4351-9858-10a0a47a73ab",
   "metadata": {},
   "outputs": [
    {
     "data": {
      "text/plain": [
       "genre\n",
       "pop            2431\n",
       "dance          1932\n",
       "rock           1879\n",
       "electronic     1737\n",
       "hiphop          960\n",
       "alternative     649\n",
       "classical       646\n",
       "rusrap          564\n",
       "ruspop          538\n",
       "world           515\n",
       "Name: track, dtype: int64"
      ]
     },
     "execution_count": 300,
     "metadata": {},
     "output_type": "execute_result"
    }
   ],
   "source": [
    "grouped_saint_general.head(10)"
   ]
  },
  {
   "cell_type": "code",
   "execution_count": 301,
   "id": "ca134aae-1df6-44f4-b2df-e233fc672168",
   "metadata": {},
   "outputs": [
    {
     "data": {
      "text/plain": [
       "genre\n",
       "pop            5892\n",
       "dance          4435\n",
       "rock           3965\n",
       "electronic     3786\n",
       "hiphop         2095\n",
       "classical      1616\n",
       "world          1432\n",
       "alternative    1379\n",
       "ruspop         1372\n",
       "rusrap         1161\n",
       "Name: track, dtype: int64"
      ]
     },
     "execution_count": 301,
     "metadata": {},
     "output_type": "execute_result"
    }
   ],
   "source": [
    "grouped_moscow_general.head(10)"
   ]
  },
  {
   "cell_type": "code",
   "execution_count": null,
   "id": "f8fd55c9-a480-4de9-9c5c-9e3609f1903b",
   "metadata": {},
   "outputs": [],
   "source": []
  }
 ],
 "metadata": {
  "kernelspec": {
   "display_name": "Python 3 (ipykernel)",
   "language": "python",
   "name": "python3"
  },
  "language_info": {
   "codemirror_mode": {
    "name": "ipython",
    "version": 3
   },
   "file_extension": ".py",
   "mimetype": "text/x-python",
   "name": "python",
   "nbconvert_exporter": "python",
   "pygments_lexer": "ipython3",
   "version": "3.11.7"
  }
 },
 "nbformat": 4,
 "nbformat_minor": 5
}
